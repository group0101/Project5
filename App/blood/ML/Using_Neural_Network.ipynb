{
  "nbformat": 4,
  "nbformat_minor": 0,
  "metadata": {
    "kernelspec": {
      "display_name": "Python 3",
      "language": "python",
      "name": "python3"
    },
    "language_info": {
      "codemirror_mode": {
        "name": "ipython",
        "version": 3
      },
      "file_extension": ".py",
      "mimetype": "text/x-python",
      "name": "python",
      "nbconvert_exporter": "python",
      "pygments_lexer": "ipython3",
      "version": "3.5.2"
    },
    "colab": {
      "name": "Blood Donor Prediction Using Neural Network.ipynb",
      "provenance": [],
      "include_colab_link": true
    }
  },
  "cells": [
    {
      "cell_type": "markdown",
      "metadata": {
        "id": "view-in-github",
        "colab_type": "text"
      },
      "source": [
        "<a href=\"https://colab.research.google.com/github/group0101/Project5/blob/master/ML/Using_Neural_Network.ipynb\" target=\"_parent\"><img src=\"https://colab.research.google.com/assets/colab-badge.svg\" alt=\"Open In Colab\"/></a>"
      ]
    },
    {
      "cell_type": "markdown",
      "metadata": {
        "id": "Z-zGPAiz4HsM",
        "colab_type": "text"
      },
      "source": [
        "## 1. Inspecting transfusion.data file\n",
        "<p><img src=\"https://assets.datacamp.com/production/project_646/img/blood_donation.png\" style=\"float: right;\" alt=\"A pictogram of a blood bag with blood donation written in it\" width=\"200\"></p>\n",
        "<p>Blood transfusion saves lives - from replacing lost blood during major surgery or a serious injury to treating various illnesses and blood disorders. Ensuring that there's enough blood in supply whenever needed is a serious challenge for the health professionals. According to <a href=\"https://www.webmd.com/a-to-z-guides/blood-transfusion-what-to-know#1\">WebMD</a>, \"about 5 million Americans need a blood transfusion every year\".</p>\n",
        "<p>Our dataset is from a mobile blood donation vehicle in Taiwan. The Blood Transfusion Service Center drives to different universities and collects blood as part of a blood drive. We want to predict whether or not a donor will give blood the next time the vehicle comes to campus.</p>\n",
        "<p>The data is stored in <code>datasets/transfusion.data</code> and it is structured according to RFMTC marketing model (a variation of RFM). We'll explore what that means later in this notebook. First, let's inspect the data.</p>"
      ]
    },
    {
      "cell_type": "code",
      "metadata": {
        "id": "CzCJQavc4HsO",
        "colab_type": "code",
        "colab": {},
        "outputId": "1e87b34c-3537-487e-b86b-f44cd311aa94"
      },
      "source": [
        "# Import pandas\n",
        "import pandas as pd\n",
        "\n",
        "# Read in dataset\n",
        "transfusion = pd.read_csv('/home/anujkhaire/Project_Final/transfusion.data')\n",
        "\n",
        "# Print out the first rows of our dataset\n",
        "transfusion.head(2)"
      ],
      "execution_count": null,
      "outputs": [
        {
          "output_type": "execute_result",
          "data": {
            "text/html": [
              "<div>\n",
              "<style scoped>\n",
              "    .dataframe tbody tr th:only-of-type {\n",
              "        vertical-align: middle;\n",
              "    }\n",
              "\n",
              "    .dataframe tbody tr th {\n",
              "        vertical-align: top;\n",
              "    }\n",
              "\n",
              "    .dataframe thead th {\n",
              "        text-align: right;\n",
              "    }\n",
              "</style>\n",
              "<table border=\"1\" class=\"dataframe\">\n",
              "  <thead>\n",
              "    <tr style=\"text-align: right;\">\n",
              "      <th></th>\n",
              "      <th>Recency (months)</th>\n",
              "      <th>Frequency (times)</th>\n",
              "      <th>Monetary (c.c. blood)</th>\n",
              "      <th>Time (months)</th>\n",
              "      <th>whether he/she donated blood in March 2007</th>\n",
              "    </tr>\n",
              "  </thead>\n",
              "  <tbody>\n",
              "    <tr>\n",
              "      <th>0</th>\n",
              "      <td>2</td>\n",
              "      <td>50</td>\n",
              "      <td>12500</td>\n",
              "      <td>98</td>\n",
              "      <td>1</td>\n",
              "    </tr>\n",
              "    <tr>\n",
              "      <th>1</th>\n",
              "      <td>0</td>\n",
              "      <td>13</td>\n",
              "      <td>3250</td>\n",
              "      <td>28</td>\n",
              "      <td>1</td>\n",
              "    </tr>\n",
              "  </tbody>\n",
              "</table>\n",
              "</div>"
            ],
            "text/plain": [
              "   Recency (months)  Frequency (times)  Monetary (c.c. blood)  Time (months)  \\\n",
              "0                 2                 50                  12500             98   \n",
              "1                 0                 13                   3250             28   \n",
              "\n",
              "   whether he/she donated blood in March 2007  \n",
              "0                                           1  \n",
              "1                                           1  "
            ]
          },
          "metadata": {
            "tags": []
          },
          "execution_count": 3
        }
      ]
    },
    {
      "cell_type": "code",
      "metadata": {
        "id": "T-UnmR9G4HsU",
        "colab_type": "code",
        "colab": {},
        "outputId": "e9aadf0d-85fe-4e34-e2c8-28bd1955339b"
      },
      "source": [
        "# Print a concise summary of transfusion DataFrame\n",
        "transfusion.info()"
      ],
      "execution_count": null,
      "outputs": [
        {
          "output_type": "stream",
          "text": [
            "<class 'pandas.core.frame.DataFrame'>\n",
            "RangeIndex: 748 entries, 0 to 747\n",
            "Data columns (total 5 columns):\n",
            "Recency (months)                              748 non-null int64\n",
            "Frequency (times)                             748 non-null int64\n",
            "Monetary (c.c. blood)                         748 non-null int64\n",
            "Time (months)                                 748 non-null int64\n",
            "whether he/she donated blood in March 2007    748 non-null int64\n",
            "dtypes: int64(5)\n",
            "memory usage: 29.3 KB\n"
          ],
          "name": "stdout"
        }
      ]
    },
    {
      "cell_type": "markdown",
      "metadata": {
        "id": "XtBOuwKq4HsY",
        "colab_type": "text"
      },
      "source": [
        "## 2. Loading the blood donations data\n",
        "<p>We now know that we are working with a typical CSV file (i.e., the delimiter is <code>,</code>, etc.). We proceed to loading the data into memory.</p>"
      ]
    },
    {
      "cell_type": "code",
      "metadata": {
        "id": "VqWQspf44HsZ",
        "colab_type": "code",
        "colab": {},
        "outputId": "2864a083-6324-4556-f835-c1a20b24325b"
      },
      "source": [
        "# Import pandas\n",
        "import pandas as pd\n",
        "\n",
        "# Read in dataset\n",
        "transfusion = pd.read_csv('/home/anujkhaire/Project_Final/transfusion.data')\n",
        "\n",
        "# Print out the first rows of our dataset\n",
        "transfusion.head(2)"
      ],
      "execution_count": null,
      "outputs": [
        {
          "output_type": "execute_result",
          "data": {
            "text/html": [
              "<div>\n",
              "<style scoped>\n",
              "    .dataframe tbody tr th:only-of-type {\n",
              "        vertical-align: middle;\n",
              "    }\n",
              "\n",
              "    .dataframe tbody tr th {\n",
              "        vertical-align: top;\n",
              "    }\n",
              "\n",
              "    .dataframe thead th {\n",
              "        text-align: right;\n",
              "    }\n",
              "</style>\n",
              "<table border=\"1\" class=\"dataframe\">\n",
              "  <thead>\n",
              "    <tr style=\"text-align: right;\">\n",
              "      <th></th>\n",
              "      <th>Recency (months)</th>\n",
              "      <th>Frequency (times)</th>\n",
              "      <th>Monetary (c.c. blood)</th>\n",
              "      <th>Time (months)</th>\n",
              "      <th>whether he/she donated blood in March 2007</th>\n",
              "    </tr>\n",
              "  </thead>\n",
              "  <tbody>\n",
              "    <tr>\n",
              "      <th>0</th>\n",
              "      <td>2</td>\n",
              "      <td>50</td>\n",
              "      <td>12500</td>\n",
              "      <td>98</td>\n",
              "      <td>1</td>\n",
              "    </tr>\n",
              "    <tr>\n",
              "      <th>1</th>\n",
              "      <td>0</td>\n",
              "      <td>13</td>\n",
              "      <td>3250</td>\n",
              "      <td>28</td>\n",
              "      <td>1</td>\n",
              "    </tr>\n",
              "  </tbody>\n",
              "</table>\n",
              "</div>"
            ],
            "text/plain": [
              "   Recency (months)  Frequency (times)  Monetary (c.c. blood)  Time (months)  \\\n",
              "0                 2                 50                  12500             98   \n",
              "1                 0                 13                   3250             28   \n",
              "\n",
              "   whether he/she donated blood in March 2007  \n",
              "0                                           1  \n",
              "1                                           1  "
            ]
          },
          "metadata": {
            "tags": []
          },
          "execution_count": 5
        }
      ]
    },
    {
      "cell_type": "markdown",
      "metadata": {
        "id": "S_UhgQVb4Hse",
        "colab_type": "text"
      },
      "source": [
        "## 3. Inspecting transfusion DataFrame\n",
        "<p>Let's briefly return to our discussion of RFM model. RFM stands for Recency, Frequency and Monetary Value and it is commonly used in marketing for identifying your best customers. In our case, our customers are blood donors.</p>\n",
        "<p>RFMTC is a variation of the RFM model. Below is a description of what each column means in our dataset:</p>\n",
        "<ul>\n",
        "<li>R (Recency - months since the last donation)</li>\n",
        "<li>F (Frequency - total number of donation)</li>\n",
        "<li>M (Monetary - total blood donated in c.c.)</li>\n",
        "<li>T (Time - months since the first donation)</li>\n",
        "<li>a binary variable representing whether he/she donated blood in March 2007 (1 stands for donating blood; 0 stands for not donating blood)</li>\n",
        "</ul>\n",
        "<p>It looks like every column in our DataFrame has the numeric type, which is exactly what we want when building a machine learning model. Let's verify our hypothesis.</p>"
      ]
    },
    {
      "cell_type": "code",
      "metadata": {
        "id": "WabGNLLb4Hsf",
        "colab_type": "code",
        "colab": {},
        "outputId": "ab02a429-c348-48cb-d31c-2d91cab5ea9b"
      },
      "source": [
        "# Print a concise summary of transfusion DataFrame\n",
        "transfusion.info()"
      ],
      "execution_count": null,
      "outputs": [
        {
          "output_type": "stream",
          "text": [
            "<class 'pandas.core.frame.DataFrame'>\n",
            "RangeIndex: 748 entries, 0 to 747\n",
            "Data columns (total 5 columns):\n",
            "Recency (months)                              748 non-null int64\n",
            "Frequency (times)                             748 non-null int64\n",
            "Monetary (c.c. blood)                         748 non-null int64\n",
            "Time (months)                                 748 non-null int64\n",
            "whether he/she donated blood in March 2007    748 non-null int64\n",
            "dtypes: int64(5)\n",
            "memory usage: 29.3 KB\n"
          ],
          "name": "stdout"
        }
      ]
    },
    {
      "cell_type": "markdown",
      "metadata": {
        "id": "BgepZXoD4Hsj",
        "colab_type": "text"
      },
      "source": [
        "## 4. Creating target column\n",
        "<p>We are aiming to predict the value in <code>whether he/she donated blood in March 2007</code> column. Let's rename this it to <code>target</code> so that it's more convenient to work with.</p>"
      ]
    },
    {
      "cell_type": "code",
      "metadata": {
        "id": "BZ7HdiOi4Hsk",
        "colab_type": "code",
        "colab": {},
        "outputId": "bb0c409c-2a9e-46a7-8571-19df7e3642a8"
      },
      "source": [
        "# Rename target column as 'target' for brevity \n",
        "transfusion.rename(\n",
        "    columns={'whether he/she donated blood in March 2007': 'target'},\n",
        "    inplace=True\n",
        ")\n",
        "\n",
        "# Print out the first 2 rows\n",
        "transfusion.head(2)"
      ],
      "execution_count": null,
      "outputs": [
        {
          "output_type": "execute_result",
          "data": {
            "text/html": [
              "<div>\n",
              "<style scoped>\n",
              "    .dataframe tbody tr th:only-of-type {\n",
              "        vertical-align: middle;\n",
              "    }\n",
              "\n",
              "    .dataframe tbody tr th {\n",
              "        vertical-align: top;\n",
              "    }\n",
              "\n",
              "    .dataframe thead th {\n",
              "        text-align: right;\n",
              "    }\n",
              "</style>\n",
              "<table border=\"1\" class=\"dataframe\">\n",
              "  <thead>\n",
              "    <tr style=\"text-align: right;\">\n",
              "      <th></th>\n",
              "      <th>Recency (months)</th>\n",
              "      <th>Frequency (times)</th>\n",
              "      <th>Monetary (c.c. blood)</th>\n",
              "      <th>Time (months)</th>\n",
              "      <th>target</th>\n",
              "    </tr>\n",
              "  </thead>\n",
              "  <tbody>\n",
              "    <tr>\n",
              "      <th>0</th>\n",
              "      <td>2</td>\n",
              "      <td>50</td>\n",
              "      <td>12500</td>\n",
              "      <td>98</td>\n",
              "      <td>1</td>\n",
              "    </tr>\n",
              "    <tr>\n",
              "      <th>1</th>\n",
              "      <td>0</td>\n",
              "      <td>13</td>\n",
              "      <td>3250</td>\n",
              "      <td>28</td>\n",
              "      <td>1</td>\n",
              "    </tr>\n",
              "  </tbody>\n",
              "</table>\n",
              "</div>"
            ],
            "text/plain": [
              "   Recency (months)  Frequency (times)  Monetary (c.c. blood)  Time (months)  \\\n",
              "0                 2                 50                  12500             98   \n",
              "1                 0                 13                   3250             28   \n",
              "\n",
              "   target  \n",
              "0       1  \n",
              "1       1  "
            ]
          },
          "metadata": {
            "tags": []
          },
          "execution_count": 7
        }
      ]
    },
    {
      "cell_type": "markdown",
      "metadata": {
        "id": "wOlZq94O4Hso",
        "colab_type": "text"
      },
      "source": [
        "## 5. Checking target incidence\n",
        "<p>We want to predict whether or not the same donor will give blood the next time the vehicle comes to campus. The model for this is a binary classifier, meaning that there are only 2 possible outcomes:</p>\n",
        "<ul>\n",
        "<li><code>0</code> - the donor will not give blood</li>\n",
        "<li><code>1</code> - the donor will give blood</li>\n",
        "</ul>\n",
        "<p>Target incidence is defined as the number of cases of each individual target value in a dataset. That is, how many 0s in the target column compared to how many 1s? Target incidence gives us an idea of how balanced (or imbalanced) is our dataset.</p>"
      ]
    },
    {
      "cell_type": "code",
      "metadata": {
        "id": "SH7n1qOV4Hsq",
        "colab_type": "code",
        "colab": {},
        "outputId": "7f517876-1a65-4be5-dca1-554818e7ee05"
      },
      "source": [
        "# Print target incidence proportions, rounding output to 3 decimal places\n",
        "transfusion.target.value_counts(normalize=True).round(3)"
      ],
      "execution_count": null,
      "outputs": [
        {
          "output_type": "execute_result",
          "data": {
            "text/plain": [
              "0    0.762\n",
              "1    0.238\n",
              "Name: target, dtype: float64"
            ]
          },
          "metadata": {
            "tags": []
          },
          "execution_count": 8
        }
      ]
    },
    {
      "cell_type": "markdown",
      "metadata": {
        "id": "BnBIVeNt4Hsv",
        "colab_type": "text"
      },
      "source": [
        "## 6. Splitting transfusion into train and test datasets\n",
        "<p>We'll now use <code>train_test_split()</code> method to split <code>transfusion</code> DataFrame.</p>\n",
        "<p>Target incidence informed us that in our dataset <code>0</code>s appear 76% of the time. We want to keep the same structure in train and test datasets, i.e., both datasets must have 0 target incidence of 76%. This is very easy to do using the <code>train_test_split()</code> method from the <code>scikit learn</code> library - all we need to do is specify the <code>stratify</code> parameter. In our case, we'll stratify on the <code>target</code> column.</p>"
      ]
    },
    {
      "cell_type": "code",
      "metadata": {
        "id": "XmKrzniR4Hsw",
        "colab_type": "code",
        "colab": {},
        "outputId": "08c27617-6b94-4a25-f7a7-715828a856ea"
      },
      "source": [
        "# Import train_test_split method\n",
        "from sklearn.model_selection import train_test_split\n",
        "\n",
        "# Split transfusion DataFrame into\n",
        "# X_train, X_test, y_train and y_test datasets,\n",
        "# stratifying on the `target` column\n",
        "X_train, X_test, y_train, y_test = train_test_split(\n",
        "    transfusion.drop(columns='target'),\n",
        "    transfusion.target,\n",
        "    test_size=0.25,\n",
        "    random_state=40,\n",
        "    stratify=transfusion.target\n",
        ")\n",
        "\n",
        "# Print out the first 2 rows of X_train\n",
        "X_train.head(2)\n",
        "print(X_test)"
      ],
      "execution_count": null,
      "outputs": [
        {
          "output_type": "stream",
          "text": [
            "     Recency (months)  Frequency (times)  Monetary (c.c. blood)  Time (months)\n",
            "746                39                  1                    250             39\n",
            "25                  4                 14                   3500             40\n",
            "380                14                  1                    250             14\n",
            "587                 2                  1                    250              2\n",
            "491                21                  3                    750             70\n",
            "72                  4                 17                   4250             71\n",
            "208                11                  6                   1500             27\n",
            "733                23                  1                    250             23\n",
            "483                23                  1                    250             23\n",
            "617                 4                  1                    250              4\n",
            "151                 4                  6                   1500             39\n",
            "417                16                  1                    250             16\n",
            "453                21                  1                    250             21\n",
            "74                  2                  2                    500              4\n",
            "458                21                  1                    250             21\n",
            "414                16                  1                    250             16\n",
            "278                14                 18                   4500             78\n",
            "599                12                 11                   2750             39\n",
            "61                  2                  8                   2000             35\n",
            "577                 9                  9                   2250             38\n",
            "616                 4                  1                    250              4\n",
            "84                  2                  6                   1500             28\n",
            "600                 2                  2                    500             14\n",
            "739                23                  4                   1000             52\n",
            "496                38                  1                    250             38\n",
            "31                  4                 10                   2500             28\n",
            "742                16                  3                    750             86\n",
            "44                  4                 20                   5000             69\n",
            "194                 2                  2                    500             14\n",
            "604                 4                  2                    500             13\n",
            "..                ...                ...                    ...            ...\n",
            "382                14                  1                    250             14\n",
            "712                14                  2                    500             35\n",
            "289                14                  3                    750             19\n",
            "111                 4                  9                   2250             46\n",
            "339                 9                  3                    750             34\n",
            "131                 2                 12                   3000             95\n",
            "71                  2                  4                   1000             16\n",
            "117                 4                 11                   2750             61\n",
            "115                11                 24                   6000             64\n",
            "572                 2                  2                    500             11\n",
            "584                 2                  1                    250              2\n",
            "181                10                  4                   1000             16\n",
            "648                11                  3                    750             23\n",
            "75                  2                  2                    500              4\n",
            "350                11                  1                    250             11\n",
            "39                  4                  7                   1750             22\n",
            "575                 4                  6                   1500             38\n",
            "176                11                  4                   1000             16\n",
            "538                 2                  8                   2000             38\n",
            "395                16                 10                   2500             89\n",
            "142                 4                  3                    750             16\n",
            "66                  2                  4                   1000             14\n",
            "171                 2                  1                    250              2\n",
            "589                 2                  1                    250              2\n",
            "272                 7                  2                    500             16\n",
            "569                 2                  6                   1500             45\n",
            "388                 9                  3                    750             52\n",
            "683                11                  3                    750             37\n",
            "421                16                  2                    500             27\n",
            "330                14                  7                   1750             47\n",
            "\n",
            "[187 rows x 4 columns]\n"
          ],
          "name": "stdout"
        }
      ]
    },
    {
      "cell_type": "markdown",
      "metadata": {
        "id": "geB5w6js4Hs0",
        "colab_type": "text"
      },
      "source": [
        "## 7. MLPClassifier"
      ]
    },
    {
      "cell_type": "code",
      "metadata": {
        "id": "iK7L_8y-4Hs1",
        "colab_type": "code",
        "colab": {},
        "outputId": "20ae1839-fea5-4233-9f20-c37efa581e6a"
      },
      "source": [
        "# Import TPOTClassifier\n",
        "from sklearn.neural_network import MLPClassifier\n",
        "# Import roc_auc_score\n",
        "from sklearn.metrics import classification_report, confusion_matrix\n",
        "\n",
        "from sklearn.metrics import roc_auc_score\n",
        "\n",
        "# Instantiate MLPClassifier\n",
        "mlp = MLPClassifier(max_iter=1000)\n",
        "print(mlp)\n",
        "mlp.fit(X_train, y_train.values.ravel())\n",
        "\n",
        "predictions = mlp.predict(X_train)\n",
        "\n",
        "#  score for model\n",
        "predictions\n",
        "print(confusion_matrix(y_train,predictions))\n",
        "print(classification_report(y_train,predictions))"
      ],
      "execution_count": null,
      "outputs": [
        {
          "output_type": "stream",
          "text": [
            "MLPClassifier(activation='relu', alpha=0.0001, batch_size='auto', beta_1=0.9,\n",
            "              beta_2=0.999, early_stopping=False, epsilon=1e-08,\n",
            "              hidden_layer_sizes=(100,), learning_rate='constant',\n",
            "              learning_rate_init=0.001, max_fun=15000, max_iter=1000,\n",
            "              momentum=0.9, n_iter_no_change=10, nesterovs_momentum=True,\n",
            "              power_t=0.5, random_state=None, shuffle=True, solver='adam',\n",
            "              tol=0.0001, validation_fraction=0.1, verbose=False,\n",
            "              warm_start=False)\n",
            "[[427   0]\n",
            " [134   0]]\n",
            "              precision    recall  f1-score   support\n",
            "\n",
            "           0       0.76      1.00      0.86       427\n",
            "           1       0.00      0.00      0.00       134\n",
            "\n",
            "    accuracy                           0.76       561\n",
            "   macro avg       0.38      0.50      0.43       561\n",
            "weighted avg       0.58      0.76      0.66       561\n",
            "\n"
          ],
          "name": "stdout"
        },
        {
          "output_type": "stream",
          "text": [
            "/home/anujkhaire/.local/lib/python3.5/site-packages/sklearn/metrics/_classification.py:1272: UndefinedMetricWarning: Precision and F-score are ill-defined and being set to 0.0 in labels with no predicted samples. Use `zero_division` parameter to control this behavior.\n",
            "  _warn_prf(average, modifier, msg_start, len(result))\n"
          ],
          "name": "stderr"
        }
      ]
    },
    {
      "cell_type": "code",
      "metadata": {
        "id": "YevQWUl54Hs5",
        "colab_type": "code",
        "colab": {},
        "outputId": "4a4c0689-d2fe-4114-b29b-033cd27d09aa"
      },
      "source": [
        "mlp.predict([[10,10,10,12]])"
      ],
      "execution_count": null,
      "outputs": [
        {
          "output_type": "execute_result",
          "data": {
            "text/plain": [
              "array([1])"
            ]
          },
          "metadata": {
            "tags": []
          },
          "execution_count": 14
        }
      ]
    },
    {
      "cell_type": "code",
      "metadata": {
        "id": "zAKEJwhZ4HtB",
        "colab_type": "code",
        "colab": {}
      },
      "source": [
        ""
      ],
      "execution_count": null,
      "outputs": []
    },
    {
      "cell_type": "code",
      "metadata": {
        "id": "HFMZyiQC4HtG",
        "colab_type": "code",
        "colab": {}
      },
      "source": [
        ""
      ],
      "execution_count": null,
      "outputs": []
    }
  ]
}